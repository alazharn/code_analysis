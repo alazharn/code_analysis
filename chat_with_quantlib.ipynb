{
 "cells": [
  {
   "attachments": {},
   "cell_type": "markdown",
   "metadata": {},
   "source": [
    "# Source code analysis"
   ]
  },
  {
   "cell_type": "code",
   "execution_count": null,
   "metadata": {},
   "outputs": [],
   "source": [
    "!pip install --upgrade langchain chromadb openai tiktoken ipython"
   ]
  },
  {
   "attachments": {},
   "cell_type": "markdown",
   "metadata": {},
   "source": [
    "Define OpenAI embeddings, Deep Lake multi-modal vector store api and authenticate. For full documentation of Deep Lake please follow [docs](https://docs.activeloop.ai/) and [API reference](https://docs.deeplake.ai/en/latest/).\n",
    "\n",
    "Authenticate into Deep Lake if you want to create your own dataset and publish it. You can get an API key from the [platform](https://app.activeloop.ai)"
   ]
  },
  {
   "cell_type": "code",
   "execution_count": 2,
   "metadata": {},
   "outputs": [],
   "source": [
    "import os\n",
    "\n",
    "from langchain.embeddings.openai import OpenAIEmbeddings\n",
    "from langchain.vectorstores import Chroma\n",
    "\n",
    "# set your OpenAI api key\n",
    "os.environ['OPENAI_API_KEY'] = \"OpenAI API Key\""
   ]
  },
  {
   "cell_type": "code",
   "execution_count": 3,
   "metadata": {},
   "outputs": [],
   "source": [
    "embeddings = OpenAIEmbeddings(disallowed_special=())"
   ]
  },
  {
   "attachments": {},
   "cell_type": "markdown",
   "metadata": {},
   "source": [
    "disallowed_special=() is required to avoid `Exception: 'utf-8' codec can't decode byte 0xff in position 0: invalid start byte` from tiktoken for some repositories"
   ]
  },
  {
   "attachments": {},
   "cell_type": "markdown",
   "metadata": {},
   "source": [
    "### 1. Index the code base\n",
    "You can directly skip this part and directly jump into using already indexed dataset. To begin with, first we will clone the repository, then parse and chunk the code base and use OpenAI indexing."
   ]
  },
  {
   "cell_type": "code",
   "execution_count": null,
   "metadata": {},
   "outputs": [],
   "source": [
    "!git clone https://github.com/lballabio/quantlib"
   ]
  },
  {
   "attachments": {},
   "cell_type": "markdown",
   "metadata": {},
   "source": [
    "Load all files inside the repository"
   ]
  },
  {
   "cell_type": "code",
   "execution_count": 5,
   "metadata": {},
   "outputs": [
    {
     "name": "stdout",
     "output_type": "stream",
     "text": [
      "index not loaded\n",
      "pack-601e8394e954cf8f74b2603f267babad5185b42d.idx not loaded\n",
      "pack-601e8394e954cf8f74b2603f267babad5185b42d.pack not loaded\n",
      "favicon.ico not loaded\n",
      "QL-title.jpg not loaded\n"
     ]
    }
   ],
   "source": [
    "import os\n",
    "from langchain.document_loaders import TextLoader\n",
    "\n",
    "root_dir = './quantlib'\n",
    "docs = []\n",
    "for dirpath, dirnames, filenames in os.walk(root_dir):\n",
    "    for file in filenames:\n",
    "        try: \n",
    "            loader = TextLoader(os.path.join(dirpath, file), encoding='utf-8')\n",
    "            docs.extend(loader.load_and_split())\n",
    "        except Exception as e: \n",
    "            print(file+\" not loaded\")\n",
    "            pass"
   ]
  },
  {
   "attachments": {},
   "cell_type": "markdown",
   "metadata": {},
   "source": [
    "Then, chunk the files"
   ]
  },
  {
   "cell_type": "code",
   "execution_count": 6,
   "metadata": {},
   "outputs": [],
   "source": [
    "from langchain.text_splitter import RecursiveCharacterTextSplitter, Language\n",
    "\n",
    "language = Language.CPP\n",
    "chunk_size = 1000\n",
    "chunk_overlap = 0\n",
    "\n",
    "cpp_splitter = RecursiveCharacterTextSplitter.from_language(\n",
    "    language=language, chunk_size=chunk_size, chunk_overlap=chunk_overlap)\n",
    "texts = cpp_splitter.split_documents(docs)"
   ]
  },
  {
   "attachments": {},
   "cell_type": "markdown",
   "metadata": {},
   "source": [
    "### Run this cell only the first time\n",
    "You only need to run this cell once and then you can just load the vector database.\n",
    "This will take about ~8 mins to compute embeddings and save it locally. You save in the cloud instead using Activeloop for example (see https://python.langchain.com/en/latest/use_cases/code/code-analysis-deeplake.html?highlight=Activeloop for an example)."
   ]
  },
  {
   "cell_type": "code",
   "execution_count": 7,
   "metadata": {},
   "outputs": [],
   "source": [
    "# folder where the vector database will be stored locally\n",
    "persist_directory = 'db'\n",
    "\n",
    "vector_db = Chroma.from_documents(documents=texts, embedding=embeddings, persist_directory=persist_directory)\n",
    "vector_db.persist()"
   ]
  },
  {
   "attachments": {},
   "cell_type": "markdown",
   "metadata": {},
   "source": [
    "### 2. Question Answering on Quantlib codebase\n",
    "First load the dataset, construct the retriever, then construct the Conversational Chain"
   ]
  },
  {
   "cell_type": "code",
   "execution_count": 8,
   "metadata": {},
   "outputs": [],
   "source": [
    "vector_db = Chroma(persist_directory=persist_directory, embedding_function=embeddings)"
   ]
  },
  {
   "cell_type": "code",
   "execution_count": 9,
   "metadata": {},
   "outputs": [],
   "source": [
    "retriever = vector_db.as_retriever()\n",
    "# using cosine similarity between the query and embeddings stored in the vector database\n",
    "retriever.search_kwargs['distance_metric'] = 'cos'\n",
    "# using max marginal relevance (see https://www.cs.cmu.edu/~jgc/publication/The_Use_MMR_Diversity_Based_LTMIR_1998.pdf)\n",
    "retriever.search_kwargs['maximal_marginal_relevance'] = True\n",
    "# number of Documents to fetch to pass to MMR algorithm\n",
    "retriever.search_kwargs['fetch_k'] = 100\n",
    "# number of Documents to return\n",
    "retriever.search_kwargs['k'] = 4"
   ]
  },
  {
   "cell_type": "code",
   "execution_count": 10,
   "metadata": {},
   "outputs": [],
   "source": [
    "from langchain.chat_models import ChatOpenAI\n",
    "from langchain.chains import ConversationalRetrievalChain\n",
    "from langchain.callbacks.manager import CallbackManager\n",
    "from langchain.callbacks.streaming_stdout import StreamingStdOutCallbackHandler\n",
    "from langchain.memory import ConversationBufferMemory\n",
    "from IPython.display import display, Markdown\n",
    "\n",
    "\n",
    "model_name ='gpt-4' # switch to gpt-3.5-turbo if you don't have the api access for gpt-4\n",
    "llm = ChatOpenAI(model_name=model_name,\n",
    "                 temperature=0,\n",
    "                 streaming=True, \n",
    "                 callback_manager=CallbackManager([StreamingStdOutCallbackHandler()]))\n",
    "memory = ConversationBufferMemory(memory_key=\"chat_history\")\n",
    "qa = ConversationalRetrievalChain.from_llm(llm, retriever=retriever, verbose=True, return_source_documents=True)"
   ]
  },
  {
   "cell_type": "code",
   "execution_count": 11,
   "metadata": {},
   "outputs": [],
   "source": [
    "chat_history = []"
   ]
  },
  {
   "cell_type": "code",
   "execution_count": 12,
   "metadata": {},
   "outputs": [
    {
     "name": "stdout",
     "output_type": "stream",
     "text": [
      "\n",
      "\n",
      "\u001b[1m> Entering new StuffDocumentsChain chain...\u001b[0m\n",
      "\n",
      "\n",
      "\u001b[1m> Entering new LLMChain chain...\u001b[0m\n",
      "Prompt after formatting:\n",
      "\u001b[32;1m\u001b[1;3mSystem: Use the following pieces of context to answer the users question. \n",
      "If you don't know the answer, just say that you don't know, don't try to make up an answer.\n",
      "----------------\n",
      "vars.termStructure = ext::shared_ptr<YieldTermStructure>(new\n",
      "        PiecewiseYieldCurve<Discount,LogLinear>(vars.settlement,\n",
      "                                                swapHelpers,\n",
      "                                                Actual360()));\n",
      "\n",
      "    Handle<YieldTermStructure> curveHandle =\n",
      "        Handle<YieldTermStructure>(vars.termStructure);\n",
      "\n",
      "    ext::shared_ptr<IborIndex> index(new Euribor6M(curveHandle));\n",
      "    for (Size i=0; i<vars.swaps; i++) {\n",
      "        Period tenor = swapData[i].n*swapData[i].units;\n",
      "\n",
      "        VanillaSwap swap = MakeVanillaSwap(tenor, index, 0.0)\n",
      "            .withEffectiveDate(vars.settlement)\n",
      "            .withFixedLegDayCount(vars.fixedLegDayCounter)\n",
      "            .withFixedLegTenor(Period(vars.fixedLegFrequency))\n",
      "            .withFixedLegConvention(vars.fixedLegConvention)\n",
      "            .withFixedLegTerminationDateConvention(vars.fixedLegConvention);\n",
      "\n",
      "Handle<YieldTermStructure> discountHandle(ext::make_shared<FlatForward>(\n",
      "            today, \n",
      "            Handle<Quote>(ext::make_shared<SimpleQuote>(0.0085)), \n",
      "            Actual365Fixed()));\n",
      "    ext::shared_ptr<DiscountingSwapEngine> swapEngine = ext::make_shared<DiscountingSwapEngine>(\n",
      "        discountHandle);\n",
      "    \n",
      "    ext::shared_ptr<IborIndex> idx = ext::make_shared<Euribor6M>(projectionCurveHandle);\n",
      "    \n",
      "    Settlement::Type types[] = { Settlement::Physical, Settlement::Cash };\n",
      "    Settlement::Method methods[] = { Settlement::PhysicalOTC, Settlement::CollateralizedCashPrice};\n",
      "    \n",
      "    Rate strikes[] = { 0.03, 0.04, 0.05, 0.06, 0.07 };\n",
      "    Volatility vols[] = { 0.0, 0.10, 0.20, 0.30, 0.70, 0.90 };\n",
      "\n",
      "Handle<YieldTermStructure> knownForecastCurve(flatRate(0.01, Actual365Fixed()));\n",
      "\n",
      "        RelinkableHandle<YieldTermStructure> discountCurve;\n",
      "        if (externalDiscountCurve)\n",
      "            discountCurve.linkTo(flatRate(0.005, Actual365Fixed()));\n",
      "\n",
      "        auto baseIndex = ext::make_shared<Sofr>(knownForecastCurve);\n",
      "        auto otherIndex = ext::make_shared<USDLibor>(6 * Months);\n",
      "\n",
      "        std::vector<ext::shared_ptr<RateHelper>> helpers;\n",
      "        for (auto q : quotes) {\n",
      "            auto h = ext::make_shared<OvernightIborBasisSwapRateHelper>(\n",
      "                Handle<Quote>(ext::make_shared<SimpleQuote>(q.basis)),\n",
      "                Period(q.n, q.units), settlementDays, calendar, convention, endOfMonth,\n",
      "                baseIndex, otherIndex, discountCurve);\n",
      "            helpers.push_back(h);\n",
      "        }\n",
      "\n",
      "        auto bootstrappedCurve = ext::make_shared<PiecewiseYieldCurve<ZeroYield, Linear>>\n",
      "            (0, calendar, helpers, Actual365Fixed());\n",
      "\n",
      "ext::shared_ptr<YieldTermStructure> fraTermStructure(\n",
      "                     new PiecewiseYieldCurve<Discount,LogLinear>(\n",
      "                                         settlementDate, fraInstruments,\n",
      "                                         termStructureDayCounter));\n",
      "\n",
      "        /***********************\n",
      "         ***  construct FRA's ***\n",
      "         ***********************/\n",
      "\n",
      "        Calendar fraCalendar = euribor3m->fixingCalendar();\n",
      "        BusinessDayConvention fraBusinessDayConvention =\n",
      "            euribor3m->businessDayConvention();\n",
      "        Position::Type fraFwdType = Position::Long;\n",
      "        Real fraNotional = 100.0;\n",
      "        Integer monthsToStart[] = { 1, 2, 3, 6, 9 };\n",
      "\n",
      "        euriborTermStructure.linkTo(fraTermStructure);\n",
      "\n",
      "        cout << endl;\n",
      "        cout << \"Test FRA construction, NPV calculation, and FRA purchase\"\n",
      "             << endl\n",
      "             << endl;\n",
      "\n",
      "        Size i;\n",
      "        for (i=0; i<LENGTH(monthsToStart); i++) {\n",
      "Human: How to build ir curves on deposit, fra, futures and swaps?\u001b[0m\n",
      "To build interest rate curves using deposits, FRAs, futures, and swaps, you can follow these steps:\n",
      "\n",
      "1. Collect market data: Obtain the market data for deposits, FRAs, futures, and swaps, including their tenors, rates, and other relevant information.\n",
      "\n",
      "2. Create rate helpers: For each type of instrument (deposits, FRAs, futures, and swaps), create rate helpers using the market data. Rate helpers are objects that help in bootstrapping the yield curve. For example, you can use DepositRateHelper for deposits, FraRateHelper for FRAs, FuturesRateHelper for futures, and SwapRateHelper for swaps.\n",
      "\n",
      "3. Combine rate helpers: Combine all the rate helpers created in step 2 into a single vector or list.\n",
      "\n",
      "4. Choose interpolation method: Select an interpolation method for the yield curve, such as linear, log-linear, or cubic spline.\n",
      "\n",
      "5. Bootstrap the yield curve: Using the combined rate helpers and the chosen interpolation method, bootstrap the yield curve. You can use the PiecewiseYieldCurve class for this purpose. For example:\n",
      "\n",
      "```cpp\n",
      "ext::shared_ptr<YieldTermStructure> termStructure(\n",
      "    new PiecewiseYieldCurve<Discount, LogLinear>(\n",
      "        settlementDate, rateHelpers, termStructureDayCounter));\n",
      "```\n",
      "\n",
      "6. Link the yield curve to the relevant indices: If you need to use the constructed yield curve for pricing other instruments, link the curve to the relevant indices, such as Euribor or Libor.\n",
      "\n",
      "Here's a high-level example of how to create a yield curve using deposits, FRAs, futures, and swaps:\n",
      "\n",
      "```cpp\n",
      "// Step 1: Collect market data (example data)\n",
      "// ...\n",
      "\n",
      "// Step 2: Create rate helpers\n",
      "std::vector<ext::shared_ptr<RateHelper>> rateHelpers;\n",
      "\n",
      "// Add DepositRateHelper\n",
      "// ...\n",
      "rateHelpers.push_back(depositRateHelper);\n",
      "\n",
      "// Add FraRateHelper\n",
      "// ...\n",
      "rateHelpers.push_back(fraRateHelper);\n",
      "\n",
      "// Add FuturesRateHelper\n",
      "// ...\n",
      "rateHelpers.push_back(futuresRateHelper);\n",
      "\n",
      "// Add SwapRateHelper\n",
      "// ...\n",
      "rateHelpers.push_back(swapRateHelper);\n",
      "\n",
      "// Step 3: Combine rate helpers\n",
      "// (Already combined in the rateHelpers vector)\n",
      "\n",
      "// Step 4: Choose interpolation method (LogLinear in this example)\n",
      "// ...\n",
      "\n",
      "// Step 5: Bootstrap the yield curve\n",
      "ext::shared_ptr<YieldTermStructure> termStructure(\n",
      "    new PiecewiseYieldCurve<Discount, LogLinear>(\n",
      "        settlementDate, rateHelpers, termStructureDayCounter));\n",
      "\n",
      "// Step 6: Link the yield curve to the relevant indices\n",
      "// (Example: Linking to Euribor index)\n",
      "Handle<YieldTermStructure> curveHandle(termStructure);\n",
      "ext::shared_ptr<IborIndex> euriborIndex(new Euribor6M(curveHandle));\n",
      "```\n",
      "\n",
      "This example demonstrates the high-level process of building a yield curve using deposits, FRAs, futures, and swaps. You'll need to adapt the code to your specific market data and requirements.\n",
      "\u001b[1m> Finished chain.\u001b[0m\n",
      "\n",
      "\u001b[1m> Finished chain.\u001b[0m\n"
     ]
    },
    {
     "data": {
      "text/markdown": [
       "To build interest rate curves using deposits, FRAs, futures, and swaps, you can follow these steps:\n",
       "\n",
       "1. Collect market data: Obtain the market data for deposits, FRAs, futures, and swaps, including their tenors, rates, and other relevant information.\n",
       "\n",
       "2. Create rate helpers: For each type of instrument (deposits, FRAs, futures, and swaps), create rate helpers using the market data. Rate helpers are objects that help in bootstrapping the yield curve. For example, you can use DepositRateHelper for deposits, FraRateHelper for FRAs, FuturesRateHelper for futures, and SwapRateHelper for swaps.\n",
       "\n",
       "3. Combine rate helpers: Combine all the rate helpers created in step 2 into a single vector or list.\n",
       "\n",
       "4. Choose interpolation method: Select an interpolation method for the yield curve, such as linear, log-linear, or cubic spline.\n",
       "\n",
       "5. Bootstrap the yield curve: Using the combined rate helpers and the chosen interpolation method, bootstrap the yield curve. You can use the PiecewiseYieldCurve class for this purpose. For example:\n",
       "\n",
       "```cpp\n",
       "ext::shared_ptr<YieldTermStructure> termStructure(\n",
       "    new PiecewiseYieldCurve<Discount, LogLinear>(\n",
       "        settlementDate, rateHelpers, termStructureDayCounter));\n",
       "```\n",
       "\n",
       "6. Link the yield curve to the relevant indices: If you need to use the constructed yield curve for pricing other instruments, link the curve to the relevant indices, such as Euribor or Libor.\n",
       "\n",
       "Here's a high-level example of how to create a yield curve using deposits, FRAs, futures, and swaps:\n",
       "\n",
       "```cpp\n",
       "// Step 1: Collect market data (example data)\n",
       "// ...\n",
       "\n",
       "// Step 2: Create rate helpers\n",
       "std::vector<ext::shared_ptr<RateHelper>> rateHelpers;\n",
       "\n",
       "// Add DepositRateHelper\n",
       "// ...\n",
       "rateHelpers.push_back(depositRateHelper);\n",
       "\n",
       "// Add FraRateHelper\n",
       "// ...\n",
       "rateHelpers.push_back(fraRateHelper);\n",
       "\n",
       "// Add FuturesRateHelper\n",
       "// ...\n",
       "rateHelpers.push_back(futuresRateHelper);\n",
       "\n",
       "// Add SwapRateHelper\n",
       "// ...\n",
       "rateHelpers.push_back(swapRateHelper);\n",
       "\n",
       "// Step 3: Combine rate helpers\n",
       "// (Already combined in the rateHelpers vector)\n",
       "\n",
       "// Step 4: Choose interpolation method (LogLinear in this example)\n",
       "// ...\n",
       "\n",
       "// Step 5: Bootstrap the yield curve\n",
       "ext::shared_ptr<YieldTermStructure> termStructure(\n",
       "    new PiecewiseYieldCurve<Discount, LogLinear>(\n",
       "        settlementDate, rateHelpers, termStructureDayCounter));\n",
       "\n",
       "// Step 6: Link the yield curve to the relevant indices\n",
       "// (Example: Linking to Euribor index)\n",
       "Handle<YieldTermStructure> curveHandle(termStructure);\n",
       "ext::shared_ptr<IborIndex> euriborIndex(new Euribor6M(curveHandle));\n",
       "```\n",
       "\n",
       "This example demonstrates the high-level process of building a yield curve using deposits, FRAs, futures, and swaps. You'll need to adapt the code to your specific market data and requirements."
      ],
      "text/plain": [
       "<IPython.core.display.Markdown object>"
      ]
     },
     "metadata": {},
     "output_type": "display_data"
    }
   ],
   "source": [
    "question = \"How to build ir curves on deposit, fra, futures and swaps?\"\n",
    "\n",
    "response = qa({\"question\": question, \"chat_history\": chat_history})\n",
    "chat_history.append((question, response['answer']))\n",
    "display(Markdown(response['answer']))"
   ]
  }
 ],
 "metadata": {
  "kernelspec": {
   "display_name": "Python 3 (ipykernel)",
   "language": "python",
   "name": "python3"
  },
  "language_info": {
   "codemirror_mode": {
    "name": "ipython",
    "version": 3
   },
   "file_extension": ".py",
   "mimetype": "text/x-python",
   "name": "python",
   "nbconvert_exporter": "python",
   "pygments_lexer": "ipython3",
   "version": "3.10.8"
  }
 },
 "nbformat": 4,
 "nbformat_minor": 2
}
